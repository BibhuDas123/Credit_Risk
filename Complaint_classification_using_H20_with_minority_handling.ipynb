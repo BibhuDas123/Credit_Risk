{
  "nbformat": 4,
  "nbformat_minor": 0,
  "metadata": {
    "colab": {
      "name": "Complaint classification using H20 with minority handling.ipynb",
      "provenance": [],
      "authorship_tag": "ABX9TyNPUSqqGAItp+7B987wCi/Z",
      "include_colab_link": true
    },
    "kernelspec": {
      "name": "python3",
      "display_name": "Python 3"
    }
  },
  "cells": [
    {
      "cell_type": "markdown",
      "metadata": {
        "id": "view-in-github",
        "colab_type": "text"
      },
      "source": [
        "<a href=\"https://colab.research.google.com/github/BibhuDas123/Data-Science-Projects/blob/master/Complaint_classification_using_H20_with_minority_handling.ipynb\" target=\"_parent\"><img src=\"https://colab.research.google.com/assets/colab-badge.svg\" alt=\"Open In Colab\"/></a>"
      ]
    },
    {
      "cell_type": "code",
      "metadata": {
        "id": "AghwE4GXgOY5",
        "outputId": "82866b99-ca7d-4531-e45d-b6e58cbbfb06",
        "colab": {
          "base_uri": "https://localhost:8080/"
        }
      },
      "source": [
        "!apt -get install default -jre\n",
        "!java -version"
      ],
      "execution_count": 54,
      "outputs": [
        {
          "output_type": "stream",
          "text": [
            "E: Command line option 'g' [from -get] is not understood in combination with the other options.\n",
            "openjdk version \"11.0.9\" 2020-10-20\n",
            "OpenJDK Runtime Environment (build 11.0.9+11-Ubuntu-0ubuntu1.18.04.1)\n",
            "OpenJDK 64-Bit Server VM (build 11.0.9+11-Ubuntu-0ubuntu1.18.04.1, mixed mode, sharing)\n"
          ],
          "name": "stdout"
        }
      ]
    },
    {
      "cell_type": "code",
      "metadata": {
        "id": "UKigNdiQgYbV",
        "outputId": "f2a6fb17-1f82-4562-c9fe-5ea86864cf8d",
        "colab": {
          "base_uri": "https://localhost:8080/"
        }
      },
      "source": [
        "!pip install h2o"
      ],
      "execution_count": 55,
      "outputs": [
        {
          "output_type": "stream",
          "text": [
            "Requirement already satisfied: h2o in /usr/local/lib/python3.6/dist-packages (3.30.1.3)\n",
            "Requirement already satisfied: requests in /usr/local/lib/python3.6/dist-packages (from h2o) (2.23.0)\n",
            "Requirement already satisfied: tabulate in /usr/local/lib/python3.6/dist-packages (from h2o) (0.8.7)\n",
            "Requirement already satisfied: colorama>=0.3.8 in /usr/local/lib/python3.6/dist-packages (from h2o) (0.4.4)\n",
            "Requirement already satisfied: future in /usr/local/lib/python3.6/dist-packages (from h2o) (0.16.0)\n",
            "Requirement already satisfied: urllib3!=1.25.0,!=1.25.1,<1.26,>=1.21.1 in /usr/local/lib/python3.6/dist-packages (from requests->h2o) (1.24.3)\n",
            "Requirement already satisfied: chardet<4,>=3.0.2 in /usr/local/lib/python3.6/dist-packages (from requests->h2o) (3.0.4)\n",
            "Requirement already satisfied: certifi>=2017.4.17 in /usr/local/lib/python3.6/dist-packages (from requests->h2o) (2020.6.20)\n",
            "Requirement already satisfied: idna<3,>=2.5 in /usr/local/lib/python3.6/dist-packages (from requests->h2o) (2.10)\n"
          ],
          "name": "stdout"
        }
      ]
    },
    {
      "cell_type": "code",
      "metadata": {
        "id": "_izeUwHRgYeq"
      },
      "source": [
        "import pandas as pd\n",
        "from sklearn.feature_extraction.text import TfidfVectorizer\n",
        "import matplotlib.pyplot as plt\n",
        "import numpy as np\n",
        "import re,nltk\n",
        "from nltk.stem.porter import PorterStemmer\n",
        "from sklearn.model_selection import train_test_split\n",
        "import h2o\n",
        "from h2o.automl import H2OAutoML"
      ],
      "execution_count": 56,
      "outputs": []
    },
    {
      "cell_type": "code",
      "metadata": {
        "id": "VxUFLPkbgYpX",
        "outputId": "29ccddb1-b0f6-4c25-ca5a-044b25ef0552",
        "colab": {
          "base_uri": "https://localhost:8080/",
          "height": 440
        }
      },
      "source": [
        "h2o.init()\n",
        "nltk.download('punkt')"
      ],
      "execution_count": 57,
      "outputs": [
        {
          "output_type": "stream",
          "text": [
            "Checking whether there is an H2O instance running at http://localhost:54321 . connected.\n"
          ],
          "name": "stdout"
        },
        {
          "output_type": "display_data",
          "data": {
            "text/html": [
              "<div style=\"overflow:auto\"><table style=\"width:50%\"><tr><td>H2O_cluster_uptime:</td>\n",
              "<td>1 hour 40 mins</td></tr>\n",
              "<tr><td>H2O_cluster_timezone:</td>\n",
              "<td>Etc/UTC</td></tr>\n",
              "<tr><td>H2O_data_parsing_timezone:</td>\n",
              "<td>UTC</td></tr>\n",
              "<tr><td>H2O_cluster_version:</td>\n",
              "<td>3.30.1.3</td></tr>\n",
              "<tr><td>H2O_cluster_version_age:</td>\n",
              "<td>1 month and 8 days </td></tr>\n",
              "<tr><td>H2O_cluster_name:</td>\n",
              "<td>H2O_from_python_unknownUser_wn7g0j</td></tr>\n",
              "<tr><td>H2O_cluster_total_nodes:</td>\n",
              "<td>1</td></tr>\n",
              "<tr><td>H2O_cluster_free_memory:</td>\n",
              "<td>3.180 Gb</td></tr>\n",
              "<tr><td>H2O_cluster_total_cores:</td>\n",
              "<td>2</td></tr>\n",
              "<tr><td>H2O_cluster_allowed_cores:</td>\n",
              "<td>2</td></tr>\n",
              "<tr><td>H2O_cluster_status:</td>\n",
              "<td>locked, healthy</td></tr>\n",
              "<tr><td>H2O_connection_url:</td>\n",
              "<td>http://localhost:54321</td></tr>\n",
              "<tr><td>H2O_connection_proxy:</td>\n",
              "<td>{\"http\": null, \"https\": null}</td></tr>\n",
              "<tr><td>H2O_internal_security:</td>\n",
              "<td>False</td></tr>\n",
              "<tr><td>H2O_API_Extensions:</td>\n",
              "<td>Amazon S3, XGBoost, Algos, AutoML, Core V3, TargetEncoder, Core V4</td></tr>\n",
              "<tr><td>Python_version:</td>\n",
              "<td>3.6.9 final</td></tr></table></div>"
            ],
            "text/plain": [
              "--------------------------  ------------------------------------------------------------------\n",
              "H2O_cluster_uptime:         1 hour 40 mins\n",
              "H2O_cluster_timezone:       Etc/UTC\n",
              "H2O_data_parsing_timezone:  UTC\n",
              "H2O_cluster_version:        3.30.1.3\n",
              "H2O_cluster_version_age:    1 month and 8 days\n",
              "H2O_cluster_name:           H2O_from_python_unknownUser_wn7g0j\n",
              "H2O_cluster_total_nodes:    1\n",
              "H2O_cluster_free_memory:    3.180 Gb\n",
              "H2O_cluster_total_cores:    2\n",
              "H2O_cluster_allowed_cores:  2\n",
              "H2O_cluster_status:         locked, healthy\n",
              "H2O_connection_url:         http://localhost:54321\n",
              "H2O_connection_proxy:       {\"http\": null, \"https\": null}\n",
              "H2O_internal_security:      False\n",
              "H2O_API_Extensions:         Amazon S3, XGBoost, Algos, AutoML, Core V3, TargetEncoder, Core V4\n",
              "Python_version:             3.6.9 final\n",
              "--------------------------  ------------------------------------------------------------------"
            ]
          },
          "metadata": {
            "tags": []
          }
        },
        {
          "output_type": "stream",
          "text": [
            "[nltk_data] Downloading package punkt to /root/nltk_data...\n",
            "[nltk_data]   Package punkt is already up-to-date!\n"
          ],
          "name": "stdout"
        },
        {
          "output_type": "execute_result",
          "data": {
            "text/plain": [
              "True"
            ]
          },
          "metadata": {
            "tags": []
          },
          "execution_count": 57
        }
      ]
    },
    {
      "cell_type": "code",
      "metadata": {
        "id": "PU7M9aEkgYsg"
      },
      "source": [
        "df=pd.read_csv('https://github.com/srivatsan88/YouTubeLI/blob/master/dataset/consumer_compliants.zip?raw=true',compression='zip',sep=',',quotechar='\"')"
      ],
      "execution_count": 69,
      "outputs": []
    },
    {
      "cell_type": "code",
      "metadata": {
        "id": "7KnzNZx4gYvb",
        "outputId": "f67f8066-ee54-48b7-9487-22867d7e0eb4",
        "colab": {
          "base_uri": "https://localhost:8080/"
        }
      },
      "source": [
        "df['Product'].value_counts()"
      ],
      "execution_count": 70,
      "outputs": [
        {
          "output_type": "execute_result",
          "data": {
            "text/plain": [
              "Debt collection                21772\n",
              "Credit card or prepaid card    13193\n",
              "Mortgage                       9799 \n",
              "Checking or savings account    7003 \n",
              "Student loan                   2950 \n",
              "Vehicle loan or lease          2736 \n",
              "Name: Product, dtype: int64"
            ]
          },
          "metadata": {
            "tags": []
          },
          "execution_count": 70
        }
      ]
    },
    {
      "cell_type": "code",
      "metadata": {
        "id": "gT0sMjcngYyn",
        "outputId": "4caae494-435f-4f47-eb6c-eea5f60440af",
        "colab": {
          "base_uri": "https://localhost:8080/",
          "height": 1000
        }
      },
      "source": [
        "complaints_df=df[['Consumer complaint narrative','Product','Company']].rename(columns={'Consumer complaint narrative':'complaints'})\n",
        "pd.set_option('display.max_colwidth',-1)\n",
        "complaints_df"
      ],
      "execution_count": 71,
      "outputs": [
        {
          "output_type": "stream",
          "text": [
            "/usr/local/lib/python3.6/dist-packages/ipykernel_launcher.py:2: FutureWarning: Passing a negative integer is deprecated in version 1.0 and will not be supported in future version. Instead, use None to not limit the column width.\n",
            "  \n"
          ],
          "name": "stderr"
        },
        {
          "output_type": "execute_result",
          "data": {
            "text/html": [
              "<div>\n",
              "<style scoped>\n",
              "    .dataframe tbody tr th:only-of-type {\n",
              "        vertical-align: middle;\n",
              "    }\n",
              "\n",
              "    .dataframe tbody tr th {\n",
              "        vertical-align: top;\n",
              "    }\n",
              "\n",
              "    .dataframe thead th {\n",
              "        text-align: right;\n",
              "    }\n",
              "</style>\n",
              "<table border=\"1\" class=\"dataframe\">\n",
              "  <thead>\n",
              "    <tr style=\"text-align: right;\">\n",
              "      <th></th>\n",
              "      <th>complaints</th>\n",
              "      <th>Product</th>\n",
              "      <th>Company</th>\n",
              "    </tr>\n",
              "  </thead>\n",
              "  <tbody>\n",
              "    <tr>\n",
              "      <th>0</th>\n",
              "      <td>This auto loan was opened on XX/XX/2020 in XXXX, NC with BB &amp; T in my name. I have NEVER been to North Carolina and I have NEVER been a resident. I have filed a dispute twice through my credit bureaus but both times BB &amp; T has claimed that this is an accurate loan. Which I wasn't aware of until today. I have tried to contact BB &amp; T multiple times but I have never gotten through to a live person. I do n't drive and I have never owned a car before. I didn't have any knowledge of this account until I checked XXXXXXXX XXXX  and noticed it. I've tried twice to dispute it. Additionally I never received any bills or information about this account. This is my last resort in trying to remove this fraudulent loan off of my account.</td>\n",
              "      <td>Vehicle loan or lease</td>\n",
              "      <td>TRUIST FINANCIAL CORPORATION</td>\n",
              "    </tr>\n",
              "    <tr>\n",
              "      <th>1</th>\n",
              "      <td>In XXXX of 2019 I noticed a debt for {$620.00} on my credit which i believed was mine I thought speedy cash had bought one of my old debts and sold it to XXXX XXXX XXXX XXXX. I contacted XXXX XXXX XXXX XXXX and after several attempts of giving my full name, nothing came up in their system. I gave my social and the rep said the account popped up but DID NOT tell me that the account was under someone elses name and continued to let me make a payment. The payment was for {$120.00}. Confirmation number-XXXX. After realizing it was not my account, I called back to get my money back and inform them of the mistake. I was told i needed to mail them an FTC report and dispute letter to get my money back. I completed all of this and when i called again they said they transferred the account back to speedy cash for fraud review and I would need to contact them. After contacting them i was again told that i can not get my money back. The issue im having is this representative at XXXX XXXX played blind to obvious fraud and let an innocent person make a payment on someone elses debt and i want my money back.</td>\n",
              "      <td>Debt collection</td>\n",
              "      <td>CURO Intermediate Holdings</td>\n",
              "    </tr>\n",
              "    <tr>\n",
              "      <th>2</th>\n",
              "      <td>As stated from Capital One, XXXX XX/XX/XXXX and XXXX 2018, My wife and I went to several car dealerships to request for a car loan to get a used car. However, according to their credit requirements unfortunately my credit score was insufficient for the car loan approval at that time. It seemed as though they pulled my credit report multiple times.</td>\n",
              "      <td>Vehicle loan or lease</td>\n",
              "      <td>CAPITAL ONE FINANCIAL CORPORATION</td>\n",
              "    </tr>\n",
              "    <tr>\n",
              "      <th>3</th>\n",
              "      <td>Please see CFPB case XXXX. \\n\\nCapital One, in the letter they provided ( and attached to that case as their response ) said this : \" The funds were reversed and sent back to XXXX XXXX XXXX  on XX/XX/XXXX ''. \\n\\nXXXX XXXX XXXX  ( now XXXX XXXX  ) has not received these funds. Staff at XXXX XXXX  - and also staff at the account-holder 's business - have looked for return of my money ( {$650.00} ) and find nothing. \\n\\nCapital One needs to document - actually prove - they returned the funds, as stated in their letter. Capital One must provide electronic information, if the return was made that way, or document the paper check they sent back to XXXX XXXX. \\n\\nI've left 3 messages about this problem for the person who signed the letter ( XXXX ) from Capital One. I have received no call-backs. \\n\\nSummary : Capital One said they returned my money on XX/XX/XXXX : they did not. If they continue claim they did, then they need to prove that.</td>\n",
              "      <td>Checking or savings account</td>\n",
              "      <td>CAPITAL ONE FINANCIAL CORPORATION</td>\n",
              "    </tr>\n",
              "    <tr>\n",
              "      <th>4</th>\n",
              "      <td>This debt was incurred due to medical malpractice ( XXXX XXXX XXXX, XXXX, TX ). I asked the doctor to turn over my claim to his malpractice insurance company. This has cost me thousands of dollars to XXXX XXXX XXXX. I am still trying to collect damages from this doctor. He never responded and turned over me to collections Merchants and Professional Collection Bureau , Inc. I sent them a letter describing exactly this issue and instead of not contacting me and verifying my debt they start reporting this debt to the credit reporting agencies. They never verified the debt, like I asked and they never stopped it from being reported when I specifically told them not to, due to the circumstances above.</td>\n",
              "      <td>Debt collection</td>\n",
              "      <td>Merchants and Professional Bureau, Inc.</td>\n",
              "    </tr>\n",
              "    <tr>\n",
              "      <th>...</th>\n",
              "      <td>...</td>\n",
              "      <td>...</td>\n",
              "      <td>...</td>\n",
              "    </tr>\n",
              "    <tr>\n",
              "      <th>57448</th>\n",
              "      <td>I am attempting to make a payment toward my student loans on the Nelnet website today, XX/XX/20, and Nelnet will not allow me to post the payment sooner than XX/XX/20. By the time the payment posts, 2-3 days of additional interest will have accrued and my payments will apply more to interest than is due today, the day that I'm attempting to pay. My understanding was that I could make a payment at any time but this does not appear to be true. The funds are available in my bank account today regardless of whether Nelnet can collect over the weekend. I should not be penalized for this. \\n\\nI submitted complaint XXXX in XXXX for other deceptive practices with Nelnet. They have not yet resolved the issue identified in that complaint or contacted me as they said they would in their response. I believe this new issue is just one more deceptive practice by this company that causes financial harm to borrowers.</td>\n",
              "      <td>Student loan</td>\n",
              "      <td>Nelnet, Inc.</td>\n",
              "    </tr>\n",
              "    <tr>\n",
              "      <th>57449</th>\n",
              "      <td>Received letter for {$480.00}. Original creditor didnt contact me until past statute of limitations for insurance company recoupment per Arizona law. Debt collection is illegal for phantom debt. Additionally they are phoning my office excessively.</td>\n",
              "      <td>Debt collection</td>\n",
              "      <td>The Receivable Management Services LLC, New York, NY Branch</td>\n",
              "    </tr>\n",
              "    <tr>\n",
              "      <th>57450</th>\n",
              "      <td>entire time 10 years until XX/XX/2020. XXXX makes my blood boil. I have called and was lied to told to provide my checking account information over the phone in order to turn my cell phone back on. i called at XXXX them at XXXX {$300.00} was added to my bill. \\n\\nScam scam scam I was told I can not call the office of the President just to write to XXXX XXXX XXXX XXXX XXXX XXXX XXXX, NM XXXX. I did three thousand times. the last letter I mailed on XX/XX/2020. Two collection agencies later. \\n\\nI chose to leave XXXX XXXX every time I called the XXXX supervisor would threaten me on a recorded line. I need peace of mind and a good Heart to beat inside of me. Im on a XXXX XXXX due to the stress at XXXX XXXX   taking all my money 4 10 years.</td>\n",
              "      <td>Debt collection</td>\n",
              "      <td>Convergent Resources, Inc.</td>\n",
              "    </tr>\n",
              "    <tr>\n",
              "      <th>57451</th>\n",
              "      <td>I am a customer with Wells Fargo Bank. Recently money was withdrawn on a couple of occasions without my permission or consent to pay for a timeshare account that was never used by me nor anyone connected to me because of unfair policies pertaining to the fees of the said timeshare. I tried cancelling the said timeshare account several times because of these fees that were never mentioned at the initiation. My account was debited to pay for the timeshare fees without my knowledge or consent several times. I tried correcting this with Wells Fargo bank with no avail. I would appreciate it if you can look into this matter for me. I was left with no funds in my account and as such I could not take care of the basic necessities of my day to day life. \\nThanks in advance,</td>\n",
              "      <td>Checking or savings account</td>\n",
              "      <td>WELLS FARGO &amp; COMPANY</td>\n",
              "    </tr>\n",
              "    <tr>\n",
              "      <th>57452</th>\n",
              "      <td>I spoken with them several times in a year. An in XXXX they informed me yes they sold my information to a third party without my knowledge. Also, I told them that I dont owe them anything because my car was paid off by insurance XXXX an Gap an they said no. I also informed them that constantly calling me an telling me that my credit score would be damage was inappropriate. But on my credit they written several negative things. An I didnt give Exeter financial Corp no authority to sell my information to XXXX XXXX</td>\n",
              "      <td>Debt collection</td>\n",
              "      <td>Exeter Finance Corp.</td>\n",
              "    </tr>\n",
              "  </tbody>\n",
              "</table>\n",
              "<p>57453 rows × 3 columns</p>\n",
              "</div>"
            ],
            "text/plain": [
              "                                                                                                                                                                                                                                                                                                                                                                                                                                                                                                                                                                                                                                                                                                                                                                                                                                                                                                                                                                                                                                                                                                                                                   complaints  ...                                                      Company\n",
              "0      This auto loan was opened on XX/XX/2020 in XXXX, NC with BB & T in my name. I have NEVER been to North Carolina and I have NEVER been a resident. I have filed a dispute twice through my credit bureaus but both times BB & T has claimed that this is an accurate loan. Which I wasn't aware of until today. I have tried to contact BB & T multiple times but I have never gotten through to a live person. I do n't drive and I have never owned a car before. I didn't have any knowledge of this account until I checked XXXXXXXX XXXX  and noticed it. I've tried twice to dispute it. Additionally I never received any bills or information about this account. This is my last resort in trying to remove this fraudulent loan off of my account.                                                                                                                                                                                                                                                                                                                                                                                             ...  TRUIST FINANCIAL CORPORATION                               \n",
              "1      In XXXX of 2019 I noticed a debt for {$620.00} on my credit which i believed was mine I thought speedy cash had bought one of my old debts and sold it to XXXX XXXX XXXX XXXX. I contacted XXXX XXXX XXXX XXXX and after several attempts of giving my full name, nothing came up in their system. I gave my social and the rep said the account popped up but DID NOT tell me that the account was under someone elses name and continued to let me make a payment. The payment was for {$120.00}. Confirmation number-XXXX. After realizing it was not my account, I called back to get my money back and inform them of the mistake. I was told i needed to mail them an FTC report and dispute letter to get my money back. I completed all of this and when i called again they said they transferred the account back to speedy cash for fraud review and I would need to contact them. After contacting them i was again told that i can not get my money back. The issue im having is this representative at XXXX XXXX played blind to obvious fraud and let an innocent person make a payment on someone elses debt and i want my money back.  ...  CURO Intermediate Holdings                                 \n",
              "2      As stated from Capital One, XXXX XX/XX/XXXX and XXXX 2018, My wife and I went to several car dealerships to request for a car loan to get a used car. However, according to their credit requirements unfortunately my credit score was insufficient for the car loan approval at that time. It seemed as though they pulled my credit report multiple times.                                                                                                                                                                                                                                                                                                                                                                                                                                                                                                                                                                                                                                                                                                                                                                                           ...  CAPITAL ONE FINANCIAL CORPORATION                          \n",
              "3      Please see CFPB case XXXX. \\n\\nCapital One, in the letter they provided ( and attached to that case as their response ) said this : \" The funds were reversed and sent back to XXXX XXXX XXXX  on XX/XX/XXXX ''. \\n\\nXXXX XXXX XXXX  ( now XXXX XXXX  ) has not received these funds. Staff at XXXX XXXX  - and also staff at the account-holder 's business - have looked for return of my money ( {$650.00} ) and find nothing. \\n\\nCapital One needs to document - actually prove - they returned the funds, as stated in their letter. Capital One must provide electronic information, if the return was made that way, or document the paper check they sent back to XXXX XXXX. \\n\\nI've left 3 messages about this problem for the person who signed the letter ( XXXX ) from Capital One. I have received no call-backs. \\n\\nSummary : Capital One said they returned my money on XX/XX/XXXX : they did not. If they continue claim they did, then they need to prove that.                                                                                                                                                                     ...  CAPITAL ONE FINANCIAL CORPORATION                          \n",
              "4      This debt was incurred due to medical malpractice ( XXXX XXXX XXXX, XXXX, TX ). I asked the doctor to turn over my claim to his malpractice insurance company. This has cost me thousands of dollars to XXXX XXXX XXXX. I am still trying to collect damages from this doctor. He never responded and turned over me to collections Merchants and Professional Collection Bureau , Inc. I sent them a letter describing exactly this issue and instead of not contacting me and verifying my debt they start reporting this debt to the credit reporting agencies. They never verified the debt, like I asked and they never stopped it from being reported when I specifically told them not to, due to the circumstances above.                                                                                                                                                                                                                                                                                                                                                                                                                       ...  Merchants and Professional Bureau, Inc.                    \n",
              "...                                                                                                                                                                                                                                                                                                                                                                                                                                                                                                                                                                                                                                                                                                                                  ...                                                                                                                                                                                                                                                                                                                                                                                                                       ...                                      ...                    \n",
              "57448  I am attempting to make a payment toward my student loans on the Nelnet website today, XX/XX/20, and Nelnet will not allow me to post the payment sooner than XX/XX/20. By the time the payment posts, 2-3 days of additional interest will have accrued and my payments will apply more to interest than is due today, the day that I'm attempting to pay. My understanding was that I could make a payment at any time but this does not appear to be true. The funds are available in my bank account today regardless of whether Nelnet can collect over the weekend. I should not be penalized for this. \\n\\nI submitted complaint XXXX in XXXX for other deceptive practices with Nelnet. They have not yet resolved the issue identified in that complaint or contacted me as they said they would in their response. I believe this new issue is just one more deceptive practice by this company that causes financial harm to borrowers.                                                                                                                                                                                                      ...  Nelnet, Inc.                                               \n",
              "57449  Received letter for {$480.00}. Original creditor didnt contact me until past statute of limitations for insurance company recoupment per Arizona law. Debt collection is illegal for phantom debt. Additionally they are phoning my office excessively.                                                                                                                                                                                                                                                                                                                                                                                                                                                                                                                                                                                                                                                                                                                                                                                                                                                                                                 ...  The Receivable Management Services LLC, New York, NY Branch\n",
              "57450  entire time 10 years until XX/XX/2020. XXXX makes my blood boil. I have called and was lied to told to provide my checking account information over the phone in order to turn my cell phone back on. i called at XXXX them at XXXX {$300.00} was added to my bill. \\n\\nScam scam scam I was told I can not call the office of the President just to write to XXXX XXXX XXXX XXXX XXXX XXXX XXXX, NM XXXX. I did three thousand times. the last letter I mailed on XX/XX/2020. Two collection agencies later. \\n\\nI chose to leave XXXX XXXX every time I called the XXXX supervisor would threaten me on a recorded line. I need peace of mind and a good Heart to beat inside of me. Im on a XXXX XXXX due to the stress at XXXX XXXX   taking all my money 4 10 years.                                                                                                                                                                                                                                                                                                                                                                               ...  Convergent Resources, Inc.                                 \n",
              "57451  I am a customer with Wells Fargo Bank. Recently money was withdrawn on a couple of occasions without my permission or consent to pay for a timeshare account that was never used by me nor anyone connected to me because of unfair policies pertaining to the fees of the said timeshare. I tried cancelling the said timeshare account several times because of these fees that were never mentioned at the initiation. My account was debited to pay for the timeshare fees without my knowledge or consent several times. I tried correcting this with Wells Fargo bank with no avail. I would appreciate it if you can look into this matter for me. I was left with no funds in my account and as such I could not take care of the basic necessities of my day to day life. \\nThanks in advance,                                                                                                                                                                                                                                                                                                                                                 ...  WELLS FARGO & COMPANY                                      \n",
              "57452  I spoken with them several times in a year. An in XXXX they informed me yes they sold my information to a third party without my knowledge. Also, I told them that I dont owe them anything because my car was paid off by insurance XXXX an Gap an they said no. I also informed them that constantly calling me an telling me that my credit score would be damage was inappropriate. But on my credit they written several negative things. An I didnt give Exeter financial Corp no authority to sell my information to XXXX XXXX                                                                                                                                                                                                                                                                                                                                                                                                                                                                                                                                                                                                                   ...  Exeter Finance Corp.                                       \n",
              "\n",
              "[57453 rows x 3 columns]"
            ]
          },
          "metadata": {
            "tags": []
          },
          "execution_count": 71
        }
      ]
    },
    {
      "cell_type": "code",
      "metadata": {
        "id": "9jOdjkCrZYyg",
        "outputId": "63679ee5-d178-46de-8cd0-16e2dace1672",
        "colab": {
          "base_uri": "https://localhost:8080/"
        }
      },
      "source": [
        "pd.set_option('display.max_colwidth',-1)\n"
      ],
      "execution_count": 77,
      "outputs": [
        {
          "output_type": "stream",
          "text": [
            "/usr/local/lib/python3.6/dist-packages/ipykernel_launcher.py:1: FutureWarning: Passing a negative integer is deprecated in version 1.0 and will not be supported in future version. Instead, use None to not limit the column width.\n",
            "  \"\"\"Entry point for launching an IPython kernel.\n"
          ],
          "name": "stderr"
        }
      ]
    },
    {
      "cell_type": "code",
      "metadata": {
        "id": "uubvY_yOZY6h"
      },
      "source": [
        "target={'Debt collection':0,'Card card or prepaid card':1,'Mortgage':2,'Checking or savings account':3,'Student loan':4,'Vehicle loan or lease':5}\n",
        "complaints_df['target']=complaints_df['Product'].map(target)"
      ],
      "execution_count": 79,
      "outputs": []
    },
    {
      "cell_type": "code",
      "metadata": {
        "id": "Gx2JmtlutA5z"
      },
      "source": [
        "X_train,X_test=train_test_split(complaints_df,test_size=0.8,random_state=0)\n",
        "stemmer=nltk.stem.SnowballStemmer('english')"
      ],
      "execution_count": 80,
      "outputs": []
    },
    {
      "cell_type": "code",
      "metadata": {
        "id": "IfS8tuoMgY12",
        "outputId": "0133fbd5-9158-410d-ee88-ae4e012f7169",
        "colab": {
          "base_uri": "https://localhost:8080/"
        }
      },
      "source": [
        "nltk.download('stopwords')\n",
        "stop_words=set(nltk.corpus.stopwords.words('english'))\n"
      ],
      "execution_count": 81,
      "outputs": [
        {
          "output_type": "stream",
          "text": [
            "[nltk_data] Downloading package stopwords to /root/nltk_data...\n",
            "[nltk_data]   Package stopwords is already up-to-date!\n"
          ],
          "name": "stdout"
        }
      ]
    },
    {
      "cell_type": "code",
      "metadata": {
        "id": "d8vs3Mv9gYmr"
      },
      "source": [
        "#maunally way of tokenizing\n",
        "def tokenize(text):\n",
        "  tokens=[word for word in nltk.word_tokenize(text) if (len(word)>3 and len(word.strip('Xx/'))>2 and len(re.sub('\\d+','',word.strip('Xx/'))))]\n",
        "  tokens=map(str.lower,tokens)\n",
        "  stems=[stemmer.stem(item) for item in tokens if (item not in stop_words)]\n",
        "  return stems"
      ],
      "execution_count": 82,
      "outputs": []
    },
    {
      "cell_type": "code",
      "metadata": {
        "id": "mnm976uftdC8",
        "outputId": "aea3a075-d810-497a-ff45-d5076b8d94ab",
        "colab": {
          "base_uri": "https://localhost:8080/"
        }
      },
      "source": [
        ""
      ],
      "execution_count": 68,
      "outputs": [
        {
          "output_type": "execute_result",
          "data": {
            "text/plain": [
              "0    5.0\n",
              "1    0.0\n",
              "2    5.0\n",
              "3    3.0\n",
              "4    0.0\n",
              "Name: Product, dtype: float64"
            ]
          },
          "metadata": {
            "tags": []
          },
          "execution_count": 68
        }
      ]
    },
    {
      "cell_type": "code",
      "metadata": {
        "id": "c3ppeu0FgYkI"
      },
      "source": [
        "complaints_df['complaints_tok']=complaints_df['complaints'].apply(lambda x:tokenize(x))"
      ],
      "execution_count": 83,
      "outputs": []
    },
    {
      "cell_type": "code",
      "metadata": {
        "id": "aSwT1vrNVZ_D"
      },
      "source": [
        "complaints_df.head()"
      ],
      "execution_count": null,
      "outputs": []
    },
    {
      "cell_type": "code",
      "metadata": {
        "id": "dIlOUwxTgYiF"
      },
      "source": [
        "#Automatic method of tokenizing\n",
        "vectorizer_tf=TfidfVectorizer(tokenizer=tokenize,stop_words=None,max_df=0.75,max_features=1000,lowercase=False,ngram_range=(1,2))\n",
        "train_vectors=vectorizer_tf.fit_transform(X_train.complaints)"
      ],
      "execution_count": 84,
      "outputs": []
    },
    {
      "cell_type": "code",
      "metadata": {
        "id": "h-ADGntuzSFc",
        "outputId": "6b55347d-d091-449c-a309-279fea89d93c",
        "colab": {
          "base_uri": "https://localhost:8080/"
        }
      },
      "source": [
        "train_vectors.A"
      ],
      "execution_count": 85,
      "outputs": [
        {
          "output_type": "execute_result",
          "data": {
            "text/plain": [
              "array([[0.        , 0.        , 0.        , ..., 0.        , 0.        ,\n",
              "        0.03469472],\n",
              "       [0.        , 0.        , 0.        , ..., 0.        , 0.        ,\n",
              "        0.        ],\n",
              "       [0.        , 0.        , 0.        , ..., 0.        , 0.        ,\n",
              "        0.        ],\n",
              "       ...,\n",
              "       [0.        , 0.        , 0.        , ..., 0.        , 0.        ,\n",
              "        0.06926578],\n",
              "       [0.        , 0.        , 0.        , ..., 0.        , 0.        ,\n",
              "        0.        ],\n",
              "       [0.        , 0.        , 0.        , ..., 0.        , 0.        ,\n",
              "        0.        ]])"
            ]
          },
          "metadata": {
            "tags": []
          },
          "execution_count": 85
        }
      ]
    },
    {
      "cell_type": "code",
      "metadata": {
        "id": "RaW0FS-52yoc"
      },
      "source": [
        "vectorizer_tf.get_feature_names()\n",
        "test_vectors=vectorizer_tf.transform(X_test.complaints)"
      ],
      "execution_count": 86,
      "outputs": []
    },
    {
      "cell_type": "code",
      "metadata": {
        "id": "tKrsDRW62ysX",
        "outputId": "818d0b4b-1d63-4349-854c-f46100739217",
        "colab": {
          "base_uri": "https://localhost:8080/"
        }
      },
      "source": [
        "X_train.shape"
      ],
      "execution_count": 87,
      "outputs": [
        {
          "output_type": "execute_result",
          "data": {
            "text/plain": [
              "(11490, 4)"
            ]
          },
          "metadata": {
            "tags": []
          },
          "execution_count": 87
        }
      ]
    },
    {
      "cell_type": "code",
      "metadata": {
        "id": "nxYOAQZ_ULGg"
      },
      "source": [
        "train_df=pd.DataFrame(train_vectors.toarray(),columns=vectorizer_tf.get_feature_names())\n",
        "train_df=pd.concat([train_df,X_train['target'].reset_index(drop=True)],axis=1)"
      ],
      "execution_count": 90,
      "outputs": []
    },
    {
      "cell_type": "code",
      "metadata": {
        "id": "q2s1aXxLULZA"
      },
      "source": [
        "test_df=pd.DataFrame(test_vectors.toarray(),columns=vectorizer_tf.get_feature_names())\n",
        "test_df=pd.concat([test_df,X_test['target'].reset_index(drop=True)],axis=1)"
      ],
      "execution_count": 91,
      "outputs": []
    },
    {
      "cell_type": "code",
      "metadata": {
        "id": "MqX6d74Rygc_",
        "outputId": "5561dbeb-d791-4533-fd2b-9e3e8edbf537",
        "colab": {
          "base_uri": "https://localhost:8080/"
        }
      },
      "source": [
        "#Convert pandas dataframe to h20 frame\n",
        "h2o_train_df=h2o.H2OFrame(train_df)\n",
        "h2o_test_df=h2o.H2OFrame(test_df)"
      ],
      "execution_count": 93,
      "outputs": [
        {
          "output_type": "stream",
          "text": [
            "Parse progress: |█████████████████████████████████████████████████████████| 100%\n",
            "Parse progress: |█████████████████████████████████████████████████████████| 100%\n"
          ],
          "name": "stdout"
        }
      ]
    },
    {
      "cell_type": "code",
      "metadata": {
        "id": "vbDEKBizygmz",
        "outputId": "446c3c7d-ab95-4845-e405-1323f74af24f",
        "colab": {
          "base_uri": "https://localhost:8080/"
        }
      },
      "source": [
        "h2o_train_df.types"
      ],
      "execution_count": 94,
      "outputs": [
        {
          "output_type": "execute_result",
          "data": {
            "text/plain": [
              "{'0.00': 'real',\n",
              " '100.00': 'real',\n",
              " '1000.00': 'real',\n",
              " '200.00': 'real',\n",
              " '2000.00': 'real',\n",
              " '300.00': 'real',\n",
              " '500.00': 'real',\n",
              " 'abil': 'real',\n",
              " 'abl': 'real',\n",
              " 'absolut': 'real',\n",
              " 'abus': 'real',\n",
              " 'accept': 'real',\n",
              " 'access': 'real',\n",
              " 'accord': 'real',\n",
              " 'account': 'real',\n",
              " 'account account': 'real',\n",
              " 'account bank': 'real',\n",
              " 'account call': 'real',\n",
              " 'account close': 'real',\n",
              " 'account credit': 'real',\n",
              " 'account number': 'real',\n",
              " 'account open': 'real',\n",
              " 'account report': 'real',\n",
              " 'account would': 'real',\n",
              " 'accru': 'real',\n",
              " 'acct': 'real',\n",
              " 'accur': 'real',\n",
              " 'acknowledg': 'real',\n",
              " 'act': 'real',\n",
              " 'action': 'real',\n",
              " 'activ': 'real',\n",
              " 'actual': 'real',\n",
              " 'ad': 'real',\n",
              " 'addit': 'real',\n",
              " 'address': 'real',\n",
              " 'adjust': 'real',\n",
              " 'admit': 'real',\n",
              " 'advanc': 'real',\n",
              " 'advantag': 'real',\n",
              " 'advertis': 'real',\n",
              " 'advis': 'real',\n",
              " 'affect': 'real',\n",
              " 'affidavit': 'real',\n",
              " 'afford': 'real',\n",
              " 'agenc': 'real',\n",
              " 'agent': 'real',\n",
              " 'agre': 'real',\n",
              " 'agreement': 'real',\n",
              " 'alert': 'real',\n",
              " 'alleg': 'real',\n",
              " 'alleg debt': 'real',\n",
              " 'alli': 'real',\n",
              " 'allow': 'real',\n",
              " 'almost': 'real',\n",
              " 'along': 'real',\n",
              " 'alreadi': 'real',\n",
              " 'also': 'real',\n",
              " 'although': 'real',\n",
              " 'alway': 'real',\n",
              " 'america': 'real',\n",
              " 'american': 'real',\n",
              " 'american express': 'real',\n",
              " 'amex': 'real',\n",
              " 'amount': 'real',\n",
              " 'amount owe': 'real',\n",
              " 'and/or': 'real',\n",
              " 'annual': 'real',\n",
              " 'anoth': 'real',\n",
              " 'answer': 'real',\n",
              " 'anyon': 'real',\n",
              " 'anyth': 'real',\n",
              " 'apart': 'real',\n",
              " 'appar': 'real',\n",
              " 'appeal': 'real',\n",
              " 'appear': 'real',\n",
              " 'appli': 'real',\n",
              " 'applic': 'real',\n",
              " 'apprais': 'real',\n",
              " 'appreci': 'real',\n",
              " 'approv': 'real',\n",
              " 'approxim': 'real',\n",
              " 'area': 'real',\n",
              " 'around': 'real',\n",
              " 'arrang': 'real',\n",
              " 'arriv': 'real',\n",
              " 'ask': 'real',\n",
              " 'assess': 'real',\n",
              " 'assign': 'real',\n",
              " 'assist': 'real',\n",
              " 'associ': 'real',\n",
              " 'assum': 'real',\n",
              " 'assur': 'real',\n",
              " 'attach': 'real',\n",
              " 'attempt': 'real',\n",
              " 'attempt collect': 'real',\n",
              " 'attorney': 'real',\n",
              " 'author': 'real',\n",
              " 'auto': 'real',\n",
              " 'autom': 'real',\n",
              " 'automat': 'real',\n",
              " 'avail': 'real',\n",
              " 'avoid': 'real',\n",
              " 'awar': 'real',\n",
              " 'away': 'real',\n",
              " 'back': 'real',\n",
              " 'balanc': 'real',\n",
              " 'balanc transfer': 'real',\n",
              " 'bank': 'real',\n",
              " 'bank account': 'real',\n",
              " 'bank america': 'real',\n",
              " 'bank statement': 'real',\n",
              " 'bankruptci': 'real',\n",
              " 'barclay': 'real',\n",
              " 'base': 'real',\n",
              " 'basic': 'real',\n",
              " 'becam': 'real',\n",
              " 'began': 'real',\n",
              " 'begin': 'real',\n",
              " 'behalf': 'real',\n",
              " 'behind': 'real',\n",
              " 'believ': 'real',\n",
              " 'belong': 'real',\n",
              " 'benefit': 'real',\n",
              " 'best': 'real',\n",
              " 'better': 'real',\n",
              " 'bill': 'real',\n",
              " 'block': 'real',\n",
              " 'bonus': 'real',\n",
              " 'borrow': 'real',\n",
              " 'bought': 'real',\n",
              " 'branch': 'real',\n",
              " 'breach': 'real',\n",
              " 'bring': 'real',\n",
              " 'bureau': 'real',\n",
              " 'bureaus': 'real',\n",
              " 'busi': 'real',\n",
              " 'busi day': 'real',\n",
              " 'buyer': 'real',\n",
              " 'calcul': 'real',\n",
              " 'california': 'real',\n",
              " 'call': 'real',\n",
              " 'call back': 'real',\n",
              " 'call bank': 'real',\n",
              " 'call call': 'real',\n",
              " 'call custom': 'real',\n",
              " 'call number': 'real',\n",
              " 'call told': 'real',\n",
              " 'came': 'real',\n",
              " 'cancel': 'real',\n",
              " 'cant': 'real',\n",
              " 'capit': 'real',\n",
              " 'card': 'real',\n",
              " 'card account': 'real',\n",
              " 'card compani': 'real',\n",
              " 'care': 'real',\n",
              " 'case': 'real',\n",
              " 'cash': 'real',\n",
              " 'caus': 'real',\n",
              " 'ceas': 'real',\n",
              " 'cell': 'real',\n",
              " 'cell phone': 'real',\n",
              " 'center': 'real',\n",
              " 'certain': 'real',\n",
              " 'certifi': 'real',\n",
              " 'cfpb': 'real',\n",
              " 'chang': 'real',\n",
              " 'charg': 'real',\n",
              " 'charg account': 'real',\n",
              " 'charg interest': 'real',\n",
              " 'chase': 'real',\n",
              " 'chase bank': 'real',\n",
              " 'check': 'real',\n",
              " 'check account': 'real',\n",
              " 'citi': 'real',\n",
              " 'citibank': 'real',\n",
              " 'citizen': 'real',\n",
              " 'civil': 'real',\n",
              " 'claim': 'real',\n",
              " 'clear': 'real',\n",
              " 'client': 'real',\n",
              " 'close': 'real',\n",
              " 'close account': 'real',\n",
              " 'code': 'real',\n",
              " 'collect': 'real',\n",
              " 'collect account': 'real',\n",
              " 'collect agenc': 'real',\n",
              " 'collect compani': 'real',\n",
              " 'collect debt': 'real',\n",
              " 'collect practic': 'real',\n",
              " 'collector': 'real',\n",
              " 'come': 'real',\n",
              " 'comen': 'real',\n",
              " 'commit': 'real',\n",
              " 'communic': 'real',\n",
              " 'compani': 'real',\n",
              " 'compani call': 'real',\n",
              " 'complain': 'real',\n",
              " 'complaint': 'real',\n",
              " 'complet': 'real',\n",
              " 'compli': 'real',\n",
              " 'comput': 'real',\n",
              " 'concern': 'real',\n",
              " 'condit': 'real',\n",
              " 'confirm': 'real',\n",
              " 'confus': 'real',\n",
              " 'connect': 'real',\n",
              " 'consent': 'real',\n",
              " 'consid': 'real',\n",
              " 'consum': 'real',\n",
              " 'contact': 'real',\n",
              " 'continu': 'real',\n",
              " 'contract': 'real',\n",
              " 'convers': 'real',\n",
              " 'cooper': 'real',\n",
              " 'copi': 'real',\n",
              " 'corpor': 'real',\n",
              " 'correct': 'real',\n",
              " 'correspond': 'real',\n",
              " 'cost': 'real',\n",
              " 'could': 'real',\n",
              " 'counti': 'real',\n",
              " 'coupl': 'real',\n",
              " 'cours': 'real',\n",
              " 'court': 'real',\n",
              " 'cover': 'real',\n",
              " 'covid-19': 'real',\n",
              " 'creat': 'real',\n",
              " 'credit': 'real',\n",
              " 'credit account': 'real',\n",
              " 'credit bureau': 'real',\n",
              " 'credit bureaus': 'real',\n",
              " 'credit card': 'real',\n",
              " 'credit file': 'real',\n",
              " 'credit limit': 'real',\n",
              " 'credit report': 'real',\n",
              " 'credit score': 'real',\n",
              " 'creditor': 'real',\n",
              " 'current': 'real',\n",
              " 'custom': 'real',\n",
              " 'custom servic': 'real',\n",
              " 'daili': 'real',\n",
              " 'damag': 'real',\n",
              " 'data': 'real',\n",
              " 'date': 'real',\n",
              " 'daughter': 'real',\n",
              " 'day': 'real',\n",
              " 'day late': 'real',\n",
              " 'day later': 'real',\n",
              " 'deal': 'real',\n",
              " 'dealership': 'real',\n",
              " 'debit': 'real',\n",
              " 'debit card': 'real',\n",
              " 'debt': 'real',\n",
              " 'debt belong': 'real',\n",
              " 'debt collect': 'real',\n",
              " 'debt collector': 'real',\n",
              " 'debt credit': 'real',\n",
              " 'debt valid': 'real',\n",
              " 'debtor': 'real',\n",
              " 'decept': 'real',\n",
              " 'decid': 'real',\n",
              " 'decis': 'real',\n",
              " 'declin': 'real',\n",
              " 'deduct': 'real',\n",
              " 'default': 'real',\n",
              " 'defer': 'real',\n",
              " 'delay': 'real',\n",
              " 'delet': 'real',\n",
              " 'delinqu': 'real',\n",
              " 'deliv': 'real',\n",
              " 'demand': 'real',\n",
              " 'deni': 'real',\n",
              " 'denial': 'real',\n",
              " 'depart': 'real',\n",
              " 'deposit': 'real',\n",
              " 'dept': 'real',\n",
              " 'despit': 'real',\n",
              " 'detail': 'real',\n",
              " 'determin': 'real',\n",
              " 'didnt': 'real',\n",
              " 'differ': 'real',\n",
              " 'direct': 'real',\n",
              " 'direct deposit': 'real',\n",
              " 'disclos': 'real',\n",
              " 'disclosur': 'real',\n",
              " 'disconnect': 'real',\n",
              " 'discov': 'real',\n",
              " 'discuss': 'real',\n",
              " 'disput': 'real',\n",
              " 'disput charg': 'real',\n",
              " 'disput debt': 'real',\n",
              " 'document': 'real',\n",
              " 'dollar': 'real',\n",
              " 'done': 'real',\n",
              " 'dont': 'real',\n",
              " 'doubl': 'real',\n",
              " 'drop': 'real',\n",
              " 'e-mail': 'real',\n",
              " 'earli': 'real',\n",
              " 'earn': 'real',\n",
              " 'educ': 'real',\n",
              " 'effect': 'real',\n",
              " 'effort': 'real',\n",
              " 'either': 'real',\n",
              " 'electron': 'real',\n",
              " 'elig': 'real',\n",
              " 'els': 'real',\n",
              " 'email': 'real',\n",
              " 'employ': 'real',\n",
              " 'employe': 'real',\n",
              " 'end': 'real',\n",
              " 'enough': 'real',\n",
              " 'enrol': 'real',\n",
              " 'enter': 'real',\n",
              " 'entir': 'real',\n",
              " 'erron': 'real',\n",
              " 'error': 'real',\n",
              " 'escal': 'real',\n",
              " 'escrow': 'real',\n",
              " 'escrow account': 'real',\n",
              " 'especi': 'real',\n",
              " 'estim': 'real',\n",
              " 'even': 'real',\n",
              " 'even though': 'real',\n",
              " 'ever': 'real',\n",
              " 'everi': 'real',\n",
              " 'everi month': 'real',\n",
              " 'everi time': 'real',\n",
              " 'everyth': 'real',\n",
              " 'evid': 'real',\n",
              " 'exact': 'real',\n",
              " 'except': 'real',\n",
              " 'excess': 'real',\n",
              " 'execut': 'real',\n",
              " 'exist': 'real',\n",
              " 'expect': 'real',\n",
              " 'expens': 'real',\n",
              " 'experi': 'real',\n",
              " 'expir': 'real',\n",
              " 'explain': 'real',\n",
              " 'explan': 'real',\n",
              " 'express': 'real',\n",
              " 'extend': 'real',\n",
              " 'extens': 'real',\n",
              " 'extra': 'real',\n",
              " 'extrem': 'real',\n",
              " 'fact': 'real',\n",
              " 'fail': 'real',\n",
              " 'failur': 'real',\n",
              " 'fair': 'real',\n",
              " 'fair credit': 'real',\n",
              " 'fair debt': 'real',\n",
              " 'faith': 'real',\n",
              " 'fals': 'real',\n",
              " 'famili': 'real',\n",
              " 'fargo': 'real',\n",
              " 'fault': 'real',\n",
              " 'fax': 'real',\n",
              " 'fcra': 'real',\n",
              " 'fdcpa': 'real',\n",
              " 'feder': 'real',\n",
              " 'fedloan': 'real',\n",
              " 'fee': 'real',\n",
              " 'feel': 'real',\n",
              " 'felt': 'real',\n",
              " 'figur': 'real',\n",
              " 'file': 'real',\n",
              " 'file complaint': 'real',\n",
              " 'fill': 'real',\n",
              " 'final': 'real',\n",
              " 'financ': 'real',\n",
              " 'financi': 'real',\n",
              " 'find': 'real',\n",
              " 'fine': 'real',\n",
              " 'firm': 'real',\n",
              " 'first': 'real',\n",
              " 'first time': 'real',\n",
              " 'fix': 'real',\n",
              " 'florida': 'real',\n",
              " 'follow': 'real',\n",
              " 'forbear': 'real',\n",
              " 'forc': 'real',\n",
              " 'foreclosur': 'real',\n",
              " 'forgiv': 'real',\n",
              " 'form': 'real',\n",
              " 'forward': 'real',\n",
              " 'found': 'real',\n",
              " 'four': 'real',\n",
              " 'fraud': 'real',\n",
              " 'fraud depart': 'real',\n",
              " 'fraudul': 'real',\n",
              " 'fraudul charg': 'real',\n",
              " 'free': 'real',\n",
              " 'freedom': 'real',\n",
              " 'freedom mortgag': 'real',\n",
              " 'friday': 'real',\n",
              " 'friend': 'real',\n",
              " 'frustrat': 'real',\n",
              " 'full': 'real',\n",
              " 'fulli': 'real',\n",
              " 'fund': 'real',\n",
              " 'furthermor': 'real',\n",
              " 'futur': 'real',\n",
              " 'garnish': 'real',\n",
              " 'gave': 'real',\n",
              " 'general': 'real',\n",
              " 'get': 'real',\n",
              " 'give': 'real',\n",
              " 'given': 'real',\n",
              " 'go': 'real',\n",
              " 'gone': 'real',\n",
              " 'good': 'real',\n",
              " 'govern': 'real',\n",
              " 'great': 'real',\n",
              " 'half': 'real',\n",
              " 'hand': 'real',\n",
              " 'handl': 'real',\n",
              " 'happen': 'real',\n",
              " 'harass': 'real',\n",
              " 'hard': 'real',\n",
              " 'hardship': 'real',\n",
              " 'health': 'real',\n",
              " 'hear': 'real',\n",
              " 'heard': 'real',\n",
              " 'held': 'real',\n",
              " 'help': 'real',\n",
              " 'high': 'real',\n",
              " 'higher': 'real',\n",
              " 'histori': 'real',\n",
              " 'hold': 'real',\n",
              " 'holder': 'real',\n",
              " 'home': 'real',\n",
              " 'homeown': 'real',\n",
              " 'honor': 'real',\n",
              " 'hope': 'real',\n",
              " 'hospit': 'real',\n",
              " 'hour': 'real',\n",
              " 'hous': 'real',\n",
              " 'howev': 'real',\n",
              " 'hsbc': 'real',\n",
              " 'hung': 'real',\n",
              " 'husband': 'real',\n",
              " 'idea': 'real',\n",
              " 'ident': 'real',\n",
              " 'ident theft': 'real',\n",
              " 'identifi': 'real',\n",
              " 'ignor': 'real',\n",
              " 'illeg': 'real',\n",
              " 'immedi': 'real',\n",
              " 'impact': 'real',\n",
              " 'import': 'real',\n",
              " 'imposs': 'real',\n",
              " 'inaccur': 'real',\n",
              " 'includ': 'real',\n",
              " 'incom': 'real',\n",
              " 'incorrect': 'real',\n",
              " 'increas': 'real',\n",
              " 'incur': 'real',\n",
              " 'indic': 'real',\n",
              " 'individu': 'real',\n",
              " 'info': 'real',\n",
              " 'inform': 'real',\n",
              " 'inform credit': 'real',\n",
              " 'initi': 'real',\n",
              " 'inquir': 'real',\n",
              " 'inquiri': 'real',\n",
              " 'insist': 'real',\n",
              " 'inspect': 'real',\n",
              " 'instead': 'real',\n",
              " 'institut': 'real',\n",
              " 'instruct': 'real',\n",
              " 'insur': 'real',\n",
              " 'insur compani': 'real',\n",
              " 'intent': 'real',\n",
              " 'interest': 'real',\n",
              " 'interest charg': 'real',\n",
              " 'interest rate': 'real',\n",
              " 'intern': 'real',\n",
              " 'investig': 'real',\n",
              " 'invoic': 'real',\n",
              " 'involv': 'real',\n",
              " 'issu': 'real',\n",
              " 'item': 'real',\n",
              " 'judgment': 'real',\n",
              " 'keep': 'real',\n",
              " 'kept': 'real',\n",
              " 'kind': 'real',\n",
              " 'knew': 'real',\n",
              " 'know': 'real',\n",
              " 'knowledg': 'real',\n",
              " 'known': 'real',\n",
              " 'lack': 'real',\n",
              " 'ladi': 'real',\n",
              " 'larg': 'real',\n",
              " 'last': 'real',\n",
              " 'last month': 'real',\n",
              " 'last year': 'real',\n",
              " 'late': 'real',\n",
              " 'late fee': 'real',\n",
              " 'late payment': 'real',\n",
              " 'later': 'real',\n",
              " 'law': 'real',\n",
              " 'lawsuit': 'real',\n",
              " 'lawyer': 'real',\n",
              " 'learn': 'real',\n",
              " 'leas': 'real',\n",
              " 'least': 'real',\n",
              " 'leav': 'real',\n",
              " 'left': 'real',\n",
              " 'legal': 'real',\n",
              " 'legal action': 'real',\n",
              " 'lend': 'real',\n",
              " 'lender': 'real',\n",
              " 'less': 'real',\n",
              " 'letter': 'real',\n",
              " 'letter date': 'real',\n",
              " 'letter sent': 'real',\n",
              " 'letter state': 'real',\n",
              " 'licens': 'real',\n",
              " 'lie': 'real',\n",
              " 'lien': 'real',\n",
              " 'life': 'real',\n",
              " 'like': 'real',\n",
              " 'limit': 'real',\n",
              " 'line': 'real',\n",
              " 'link': 'real',\n",
              " 'list': 'real',\n",
              " 'littl': 'real',\n",
              " 'live': 'real',\n",
              " 'loan': 'real',\n",
              " 'loan modif': 'real',\n",
              " 'loan servic': 'real',\n",
              " 'loancar': 'real',\n",
              " 'local': 'real',\n",
              " 'locat': 'real',\n",
              " 'lock': 'real',\n",
              " 'log': 'real',\n",
              " 'long': 'real',\n",
              " 'longer': 'real',\n",
              " 'look': 'real',\n",
              " 'lose': 'real',\n",
              " 'loss': 'real',\n",
              " 'lost': 'real',\n",
              " 'lower': 'real',\n",
              " 'made': 'real',\n",
              " 'made payment': 'real',\n",
              " 'mail': 'real',\n",
              " 'maintain': 'real',\n",
              " 'major': 'real',\n",
              " 'make': 'real',\n",
              " 'make payment': 'real',\n",
              " 'make sure': 'real',\n",
              " 'manag': 'real',\n",
              " 'mani': 'real',\n",
              " 'mani time': 'real',\n",
              " 'manner': 'real',\n",
              " 'mark': 'real',\n",
              " 'market': 'real',\n",
              " 'mastercard': 'real',\n",
              " 'matter': 'real',\n",
              " 'mean': 'real',\n",
              " 'medic': 'real',\n",
              " 'meet': 'real',\n",
              " 'member': 'real',\n",
              " 'mention': 'real',\n",
              " 'merchant': 'real',\n",
              " 'messag': 'real',\n",
              " 'midland': 'real',\n",
              " 'might': 'real',\n",
              " 'mile': 'real',\n",
              " 'mine': 'real',\n",
              " 'minimum': 'real',\n",
              " 'minut': 'real',\n",
              " 'mislead': 'real',\n",
              " 'miss': 'real',\n",
              " 'miss payment': 'real',\n",
              " 'mistak': 'real',\n",
              " 'mobil': 'real',\n",
              " 'modif': 'real',\n",
              " 'monday': 'real',\n",
              " 'money': 'real',\n",
              " 'money back': 'real',\n",
              " 'month': 'real',\n",
              " 'month later': 'real',\n",
              " 'month payment': 'real',\n",
              " 'morn': 'real',\n",
              " 'mortgag': 'real',\n",
              " 'mortgag compani': 'real',\n",
              " 'mortgag loan': 'real',\n",
              " 'mortgag payment': 'real',\n",
              " 'mortgag servic': 'real',\n",
              " 'mother': 'real',\n",
              " 'move': 'real',\n",
              " 'much': 'real',\n",
              " 'multipl': 'real',\n",
              " 'multipl time': 'real',\n",
              " 'must': 'real',\n",
              " 'name': 'real',\n",
              " 'nation': 'real',\n",
              " 'navient': 'real',\n",
              " 'near': 'real',\n",
              " 'necessari': 'real',\n",
              " 'need': 'real',\n",
              " 'negat': 'real',\n",
              " 'neither': 'real',\n",
              " 'never': 'real',\n",
              " 'never receiv': 'real',\n",
              " 'next': 'real',\n",
              " 'none': 'real',\n",
              " 'normal': 'real',\n",
              " 'note': 'real',\n",
              " 'noth': 'real',\n",
              " 'notic': 'real',\n",
              " 'notif': 'real',\n",
              " 'notifi': 'real',\n",
              " 'number': 'real',\n",
              " 'number call': 'real',\n",
              " 'numer': 'real',\n",
              " 'oblig': 'real',\n",
              " 'obtain': 'real',\n",
              " 'obvious': 'real',\n",
              " 'occas': 'real',\n",
              " 'occur': 'real',\n",
              " 'ocwen': 'real',\n",
              " 'offer': 'real',\n",
              " 'offic': 'real',\n",
              " 'onlin': 'real',\n",
              " 'open': 'real',\n",
              " 'open account': 'real',\n",
              " 'oper': 'real',\n",
              " 'opportun': 'real',\n",
              " 'option': 'real',\n",
              " 'order': 'real',\n",
              " 'origin': 'real',\n",
              " 'origin creditor': 'real',\n",
              " 'other': 'real',\n",
              " 'outstand': 'real',\n",
              " 'overdraft': 'real',\n",
              " 'owe': 'real',\n",
              " 'own': 'real',\n",
              " 'owner': 'real',\n",
              " 'packag': 'real',\n",
              " 'page': 'real',\n",
              " 'paid': 'real',\n",
              " 'paid full': 'real',\n",
              " 'pandem': 'real',\n",
              " 'paper': 'real',\n",
              " 'paperwork': 'real',\n",
              " 'part': 'real',\n",
              " 'parti': 'real',\n",
              " 'pass': 'real',\n",
              " 'past': 'real',\n",
              " 'pay': 'real',\n",
              " 'payment': 'real',\n",
              " 'payment amount': 'real',\n",
              " 'payment date': 'real',\n",
              " 'payment histori': 'real',\n",
              " 'payment made': 'real',\n",
              " 'payment month': 'real',\n",
              " 'payment plan': 'real',\n",
              " 'payment receiv': 'real',\n",
              " 'payment time': 'real',\n",
              " 'payment would': 'real',\n",
              " 'payoff': 'real',\n",
              " 'paypal': 'real',\n",
              " 'penalti': 'real',\n",
              " 'pend': 'real',\n",
              " 'peopl': 'real',\n",
              " 'perform': 'real',\n",
              " 'period': 'real',\n",
              " 'permiss': 'real',\n",
              " 'person': 'real',\n",
              " 'person inform': 'real',\n",
              " 'phone': 'real',\n",
              " 'phone call': 'real',\n",
              " 'phone number': 'real',\n",
              " 'pick': 'real',\n",
              " 'place': 'real',\n",
              " 'plan': 'real',\n",
              " 'pleas': 'real',\n",
              " 'pleas help': 'real',\n",
              " 'plus': 'real',\n",
              " 'point': 'real',\n",
              " 'polic': 'real',\n",
              " 'polic report': 'real',\n",
              " 'polici': 'real',\n",
              " 'poor': 'real',\n",
              " 'portfolio': 'real',\n",
              " 'portfolio recoveri': 'real',\n",
              " 'posit': 'real',\n",
              " 'possibl': 'real',\n",
              " 'post': 'real',\n",
              " 'practic': 'real',\n",
              " 'present': 'real',\n",
              " 'prevent': 'real',\n",
              " 'previous': 'real',\n",
              " 'price': 'real',\n",
              " 'princip': 'real',\n",
              " 'principl': 'real',\n",
              " 'prior': 'real',\n",
              " 'privat': 'real',\n",
              " 'problem': 'real',\n",
              " 'procedur': 'real',\n",
              " 'proceed': 'real',\n",
              " 'process': 'real',\n",
              " 'product': 'real',\n",
              " 'program': 'real',\n",
              " 'promis': 'real',\n",
              " 'promot': 'real',\n",
              " 'prompt': 'real',\n",
              " 'proof': 'real',\n",
              " 'proper': 'real',\n",
              " 'properti': 'real',\n",
              " 'protect': 'real',\n",
              " 'prove': 'real',\n",
              " 'provid': 'real',\n",
              " 'provid inform': 'real',\n",
              " 'provid proof': 'real',\n",
              " 'public': 'real',\n",
              " 'pull': 'real',\n",
              " 'purchas': 'real',\n",
              " 'purpos': 'real',\n",
              " 'pursuant': 'real',\n",
              " 'put': 'real',\n",
              " 'qualifi': 'real',\n",
              " 'question': 'real',\n",
              " 'quick': 'real',\n",
              " 'rate': 'real',\n",
              " 'reach': 'real',\n",
              " 'read': 'real',\n",
              " 'real': 'real',\n",
              " 'realiz': 'real',\n",
              " 'realli': 'real',\n",
              " 'reason': 'real',\n",
              " 'receipt': 'real',\n",
              " 'receiv': 'real',\n",
              " 'receiv bill': 'real',\n",
              " 'receiv call': 'real',\n",
              " 'receiv email': 'real',\n",
              " 'receiv letter': 'real',\n",
              " 'receiv notic': 'real',\n",
              " 'receiv respons': 'real',\n",
              " 'receiv statement': 'real',\n",
              " 'recent': 'real',\n",
              " 'record': 'real',\n",
              " 'recoveri': 'real',\n",
              " 'reduc': 'real',\n",
              " 'refer': 'real',\n",
              " 'refin': 'real',\n",
              " 'refinanc': 'real',\n",
              " 'reflect': 'real',\n",
              " 'refund': 'real',\n",
              " 'refus': 'real',\n",
              " 'regard': 'real',\n",
              " 'regist': 'real',\n",
              " 'regul': 'real',\n",
              " 'regular': 'real',\n",
              " 'reimburs': 'real',\n",
              " 'reject': 'real',\n",
              " 'relat': 'real',\n",
              " 'relationship': 'real',\n",
              " 'releas': 'real',\n",
              " 'remain': 'real',\n",
              " 'remov': 'real',\n",
              " 'remov account': 'real',\n",
              " 'remov credit': 'real',\n",
              " 'renew': 'real',\n",
              " 'rent': 'real',\n",
              " 'repay': 'real',\n",
              " 'repeat': 'real',\n",
              " 'replac': 'real',\n",
              " 'repli': 'real',\n",
              " 'report': 'real',\n",
              " 'report account': 'real',\n",
              " 'report agenc': 'real',\n",
              " 'report credit': 'real',\n",
              " 'report debt': 'real',\n",
              " 'repres': 'real',\n",
              " 'request': 'real',\n",
              " 'request valid': 'real',\n",
              " 'requir': 'real',\n",
              " 'research': 'real',\n",
              " 'reserv': 'real',\n",
              " 'resid': 'real',\n",
              " 'resolut': 'real',\n",
              " 'resolv': 'real',\n",
              " 'resolv issu': 'real',\n",
              " 'respect': 'real',\n",
              " 'respond': 'real',\n",
              " 'respons': 'real',\n",
              " 'result': 'real',\n",
              " 'return': 'real',\n",
              " 'return call': 'real',\n",
              " 'revers': 'real',\n",
              " 'review': 'real',\n",
              " 'reward': 'real',\n",
              " 'right': 'real',\n",
              " 'rude': 'real',\n",
              " 'rule': 'real',\n",
              " 'said': 'real',\n",
              " 'said could': 'real',\n",
              " 'said would': 'real',\n",
              " 'sale': 'real',\n",
              " 'santand': 'real',\n",
              " 'save': 'real',\n",
              " 'save account': 'real',\n",
              " 'say': 'real',\n",
              " 'scam': 'real',\n",
              " 'schedul': 'real',\n",
              " 'school': 'real',\n",
              " 'score': 'real',\n",
              " 'second': 'real',\n",
              " 'section': 'real',\n",
              " 'secur': 'real',\n",
              " 'secur number': 'real',\n",
              " 'seek': 'real',\n",
              " 'seem': 'real',\n",
              " 'select': 'real',\n",
              " 'sell': 'real',\n",
              " 'send': 'real',\n",
              " 'sens': 'real',\n",
              " 'sent': 'real',\n",
              " 'sent email': 'real',\n",
              " 'sent letter': 'real',\n",
              " 'separ': 'real',\n",
              " 'serious': 'real',\n",
              " 'serv': 'real',\n",
              " 'servic': 'real',\n",
              " 'servic loan': 'real',\n",
              " 'servic repres': 'real',\n",
              " 'settl': 'real',\n",
              " 'settlement': 'real',\n",
              " 'sever': 'real',\n",
              " 'sever time': 'real',\n",
              " 'shall': 'real',\n",
              " 'share': 'real',\n",
              " 'shellpoint': 'real',\n",
              " 'short': 'real',\n",
              " 'show': 'real',\n",
              " 'sign': 'real',\n",
              " 'signatur': 'real',\n",
              " 'simpli': 'real',\n",
              " 'sinc': 'real',\n",
              " 'singl': 'real',\n",
              " 'site': 'real',\n",
              " 'situat': 'real',\n",
              " 'small': 'real',\n",
              " 'social': 'real',\n",
              " 'social secur': 'real',\n",
              " 'sold': 'real',\n",
              " 'solut': 'real',\n",
              " 'someon': 'real',\n",
              " 'someth': 'real',\n",
              " 'soon': 'real',\n",
              " 'speak': 'real',\n",
              " 'special': 'real',\n",
              " 'specif': 'real',\n",
              " 'spend': 'real',\n",
              " 'spent': 'real',\n",
              " 'spoke': 'real',\n",
              " 'spoken': 'real',\n",
              " 'stand': 'real',\n",
              " 'standard': 'real',\n",
              " 'start': 'real',\n",
              " 'state': 'real',\n",
              " 'state would': 'real',\n",
              " 'statement': 'real',\n",
              " 'status': 'real',\n",
              " 'stay': 'real',\n",
              " 'step': 'real',\n",
              " 'still': 'real',\n",
              " 'stolen': 'real',\n",
              " 'stop': 'real',\n",
              " 'store': 'real',\n",
              " 'stress': 'real',\n",
              " 'student': 'real',\n",
              " 'student loan': 'real',\n",
              " 'subject': 'real',\n",
              " 'submit': 'real',\n",
              " 'subsequ': 'real',\n",
              " 'success': 'real',\n",
              " 'suggest': 'real',\n",
              " 'suit': 'real',\n",
              " 'suntrust': 'real',\n",
              " 'supervisor': 'real',\n",
              " 'support': 'real',\n",
              " 'suppos': 'real',\n",
              " 'sure': 'real',\n",
              " 'switch': 'real',\n",
              " 'synchroni': 'real',\n",
              " 'synchroni bank': 'real',\n",
              " 'system': 'real',\n",
              " 'tactic': 'real',\n",
              " 'take': 'real',\n",
              " 'taken': 'real',\n",
              " 'talk': 'real',\n",
              " 'tax': 'real',\n",
              " 'team': 'real',\n",
              " 'telephon': 'real',\n",
              " 'tell': 'real',\n",
              " 'term': 'real',\n",
              " 'texa': 'real',\n",
              " 'text': 'real',\n",
              " 'thank': 'real',\n",
              " 'theft': 'real',\n",
              " 'therefor': 'real',\n",
              " 'thing': 'real',\n",
              " 'think': 'real',\n",
              " 'third': 'real',\n",
              " 'third parti': 'real',\n",
              " 'though': 'real',\n",
              " 'thought': 'real',\n",
              " 'threaten': 'real',\n",
              " 'three': 'real',\n",
              " 'ticket': 'real',\n",
              " 'time': 'real',\n",
              " 'time call': 'real',\n",
              " 'titl': 'real',\n",
              " 'today': 'real',\n",
              " 'told': 'real',\n",
              " 'told could': 'real',\n",
              " 'told would': 'real',\n",
              " 'took': 'real',\n",
              " 'total': 'real',\n",
              " 'toward': 'real',\n",
              " 'track': 'real',\n",
              " 'trade': 'real',\n",
              " 'transact': 'real',\n",
              " 'transfer': 'real',\n",
              " 'travel': 'real',\n",
              " 'treat': 'real',\n",
              " 'tri': 'real',\n",
              " 'tri collect': 'real',\n",
              " 'true': 'real',\n",
              " 'trust': 'real',\n",
              " 'turn': 'real',\n",
              " 'twice': 'real',\n",
              " 'type': 'real',\n",
              " 'u.s.': 'real',\n",
              " 'unabl': 'real',\n",
              " 'unaccept': 'real',\n",
              " 'unauthor': 'real',\n",
              " 'understand': 'real',\n",
              " 'unfair': 'real',\n",
              " 'unfortun': 'real',\n",
              " 'union': 'real',\n",
              " 'unit': 'real',\n",
              " 'unless': 'real',\n",
              " 'updat': 'real',\n",
              " 'upload': 'real',\n",
              " 'upon': 'real',\n",
              " 'usaa': 'real',\n",
              " 'use': 'real',\n",
              " 'util': 'real',\n",
              " 'valid': 'real',\n",
              " 'valid debt': 'real',\n",
              " 'valu': 'real',\n",
              " 'vehicl': 'real',\n",
              " 'verbal': 'real',\n",
              " 'verif': 'real',\n",
              " 'verifi': 'real',\n",
              " 'victim': 'real',\n",
              " 'victim ident': 'real',\n",
              " 'violat': 'real',\n",
              " 'violat fair': 'real',\n",
              " 'visa': 'real',\n",
              " 'visit': 'real',\n",
              " 'voicemail': 'real',\n",
              " 'wait': 'real',\n",
              " 'waiv': 'real',\n",
              " 'want': 'real',\n",
              " 'wasnt': 'real',\n",
              " 'websit': 'real',\n",
              " 'week': 'real',\n",
              " 'week later': 'real',\n",
              " 'well': 'real',\n",
              " 'well fargo': 'real',\n",
              " 'went': 'real',\n",
              " 'whether': 'real',\n",
              " 'whole': 'real',\n",
              " 'wife': 'real',\n",
              " 'will': 'real',\n",
              " 'wire': 'real',\n",
              " 'withdraw': 'real',\n",
              " 'within': 'real',\n",
              " 'within day': 'real',\n",
              " 'without': 'real',\n",
              " 'word': 'real',\n",
              " 'work': 'real',\n",
              " 'would': 'real',\n",
              " 'would call': 'real',\n",
              " 'would like': 'real',\n",
              " 'would need': 'real',\n",
              " 'would receiv': 'real',\n",
              " 'would take': 'real',\n",
              " 'write': 'real',\n",
              " 'written': 'real',\n",
              " 'wrong': 'real',\n",
              " 'wrote': 'real',\n",
              " 'year': 'real',\n",
              " ...}"
            ]
          },
          "metadata": {
            "tags": []
          },
          "execution_count": 94
        }
      ]
    },
    {
      "cell_type": "code",
      "metadata": {
        "id": "4hMmJ7hlHOCx"
      },
      "source": [
        "h2o_train_df['target']=h2o_train_df['target'].asfactor()\n",
        "h2o_test_df['target']=h2o_test_df['target'].asfactor()"
      ],
      "execution_count": 95,
      "outputs": []
    },
    {
      "cell_type": "code",
      "metadata": {
        "id": "KDuEhbYqHOJE"
      },
      "source": [
        "aml=H2OAutoML(max_models=10,seed=10,exclude_algos=['StackedEnsemble'],verbosity='info',nfolds=0,balance_classes=True,max_after_balance_size=0.3)"
      ],
      "execution_count": 98,
      "outputs": []
    },
    {
      "cell_type": "code",
      "metadata": {
        "id": "ku8w3xQuHOHE"
      },
      "source": [
        "x=vectorizer_tf.get_feature_names()\n",
        "y='target'"
      ],
      "execution_count": 99,
      "outputs": []
    },
    {
      "cell_type": "code",
      "metadata": {
        "id": "BzZubHwdJ1U-",
        "outputId": "8e4da1a7-7fa3-4e6e-cb27-33b41988df7f",
        "colab": {
          "base_uri": "https://localhost:8080/"
        }
      },
      "source": [
        "aml.train(x=x,y=y,training_frame=h2o_train_df,validation_frame=h2o_test_df)"
      ],
      "execution_count": null,
      "outputs": [
        {
          "output_type": "stream",
          "text": [
            "AutoML progress: |\n",
            "10:44:30.166: Project: AutoML_20201106_104430159\n",
            "10:44:30.167: Cross-validation disabled by user: no fold column nor nfolds > 1.\n",
            "10:44:30.177: Setting stopping tolerance adaptively based on the training frame: 0.00932910509720565\n",
            "10:44:30.177: Build control seed: 10\n",
            "10:44:30.178: Since cross-validation is disabled, and no leaderboard frame was provided, automatically split the training data into training and leaderboard frames in the ratio 90/10\n",
            "10:44:32.865: training frame: Frame key: automl_training_py_1_sid_8a37    cols: 1001    rows: 10336  chunks: 14    size: 8787042  checksum: 3550643107087973947\n",
            "10:44:32.872: validation frame: Frame key: py_2_sid_8a37    cols: 1001    rows: 45963  chunks: 53    size: 38174009  checksum: 3663043138670366538\n",
            "10:44:33.66: leaderboard frame: Frame key: automl_leaderboard_py_1_sid_8a37    cols: 1001    rows: 1154  chunks: 14    size: 1931000  checksum: 6555337111593971732\n",
            "10:44:33.66: blending frame: NULL\n",
            "10:44:33.66: response column: target\n",
            "10:44:33.66: fold column: null\n",
            "10:44:33.66: weights column: null\n",
            "10:44:33.102: Loading execution steps: [{XGBoost : defaults}, {GLM : defaults}, {DRF : [def_1]}, {GBM : defaults}, {DeepLearning : defaults}, {DRF : [XRT]}, {XGBoost : grids}, {GBM : grids}, {DeepLearning : grids}, {GBM : [lr_annealing]}, {XGBoost : [lr_search]}, {StackedEnsemble : defaults}]\n",
            "10:44:33.121: Disabling Algo: StackedEnsemble as requested by the user.\n",
            "10:44:33.127: AutoML job created: 2020.11.06 10:44:30.158\n",
            "10:44:33.128: AutoML build started: 2020.11.06 10:44:33.128\n",
            "10:44:33.169: AutoML: starting XGBoost_1_AutoML_20201106_104430 model training\n",
            "10:44:34.375: XGBoost_1_AutoML_20201106_104430 [XGBoost def_1] failed: water.exceptions.H2OModelBuilderIllegalArgumentException: Illegal argument(s) for XGBoost model: XGBoost_1_AutoML_20201106_104430.  Details: ERRR on field: _response_column: Response contains missing values (NAs) - not supported by XGBoost.\n",
            "\n",
            "10:44:34.376: AutoML: starting XGBoost_2_AutoML_20201106_104430 model training\n",
            "10:44:35.406: XGBoost_2_AutoML_20201106_104430 [XGBoost def_2] failed: water.exceptions.H2OModelBuilderIllegalArgumentException: Illegal argument(s) for XGBoost model: XGBoost_2_AutoML_20201106_104430.  Details: ERRR on field: _response_column: Response contains missing values (NAs) - not supported by XGBoost.\n",
            "\n",
            "10:44:35.407: AutoML: starting XGBoost_3_AutoML_20201106_104430 model training\n",
            "10:44:36.425: XGBoost_3_AutoML_20201106_104430 [XGBoost def_3] failed: water.exceptions.H2OModelBuilderIllegalArgumentException: Illegal argument(s) for XGBoost model: XGBoost_3_AutoML_20201106_104430.  Details: ERRR on field: _response_column: Response contains missing values (NAs) - not supported by XGBoost.\n",
            "\n",
            "10:44:36.432: AutoML: starting GLM_1_AutoML_20201106_104430 model training\n",
            "10:47:33.568: New leader: GLM_1_AutoML_20201106_104430, mean_per_class_error: 0.24118837086514872\n",
            "10:47:33.571: AutoML: starting DRF_1_AutoML_20201106_104430 model training\n",
            "10:49:17.849: AutoML: starting GBM_1_AutoML_20201106_104430 model training\n",
            "10:54:57.413: New leader: GBM_1_AutoML_20201106_104430, mean_per_class_error: 0.15697001171548627\n",
            "10:54:57.413: AutoML: starting GBM_2_AutoML_20201106_104430 model training\n",
            "10:59:14.687: AutoML: starting GBM_3_AutoML_20201106_104430 model training\n",
            "11:02:52.962: AutoML: starting GBM_4_AutoML_20201106_104430 model training\n",
            "11:09:08.312: New leader: GBM_4_AutoML_20201106_104430, mean_per_class_error: 0.15148040265428828\n",
            "11:09:08.313: AutoML: starting GBM_5_AutoML_20201106_104430 model training\n",
            "11:13:51.553: Project: AutoML_20201106_104430159\n",
            "11:13:51.553: Cross-validation disabled by user: no fold column nor nfolds > 1.\n",
            "11:13:51.554: Setting stopping tolerance adaptively based on the training frame: 0.00932910509720565\n",
            "11:13:51.554: Build control seed: 10\n",
            "11:13:51.554: Since cross-validation is disabled, and no leaderboard frame was provided, automatically split the training data into training and leaderboard frames in the ratio 90/10\n",
            "11:13:51.729: Actual modeling steps: [{XGBoost : [def_1 (10), def_2 (10), def_3 (10)]}, {GLM : [def_1 (10)]}, {DRF : [def_1 (10)]}, {GBM : [def_1 (10), def_2 (10), def_3 (10), def_4 (10), def_5 (10)]}]\n",
            "11:13:51.729: AutoML build stopped: 2020.11.06 11:13:51.729\n",
            "11:13:51.729: AutoML build done: built 7 models\n",
            "11:13:51.729: AutoML duration: 29 min 18.601 sec\n",
            "11:13:52.869: training frame: Frame key: automl_training_py_1_sid_8a37    cols: 1001    rows: 10336  chunks: 14    size: 8787042  checksum: 3550643107087973947\n",
            "11:13:52.871: validation frame: Frame key: py_2_sid_8a37    cols: 1001    rows: 45963  chunks: 53    size: 38174009  checksum: 3663043138670366538\n",
            "11:13:52.989: leaderboard frame: Frame key: automl_leaderboard_py_1_sid_8a37    cols: 1001    rows: 1154  chunks: 14    size: 1931000  checksum: 6555337111593971732\n",
            "11:13:52.989: blending frame: NULL\n",
            "11:13:52.989: response column: target\n",
            "11:13:52.989: fold column: null\n",
            "11:13:52.990: weights column: null\n",
            "11:13:52.990: New models will be added to existing leaderboard AutoML_20201106_104430159@@target (leaderboard frame=automl_leaderboard_py_1_sid_8a37) with already 7 models.\n",
            "11:13:52.992: Loading execution steps: [{XGBoost : defaults}, {GLM : defaults}, {DRF : [def_1]}, {GBM : defaults}, {DeepLearning : defaults}, {DRF : [XRT]}, {XGBoost : grids}, {GBM : grids}, {DeepLearning : grids}, {GBM : [lr_annealing]}, {XGBoost : [lr_search]}, {StackedEnsemble : defaults}]\n",
            "11:13:52.992: Disabling Algo: StackedEnsemble as requested by the user.\n",
            "11:13:52.993: AutoML job created: 2020.11.06 11:13:51.550\n",
            "11:13:52.994: AutoML build started: 2020.11.06 11:13:52.993\n",
            "11:13:52.994: AutoML: starting XGBoost_1_AutoML_20201106_111351 model training\n",
            "\n",
            "\n",
            "11:13:54.3: XGBoost_1_AutoML_20201106_111351 [XGBoost def_1] failed: water.exceptions.H2OModelBuilderIllegalArgumentException: Illegal argument(s) for XGBoost model: XGBoost_1_AutoML_20201106_111351.  Details: ERRR on field: _response_column: Response contains missing values (NAs) - not supported by XGBoost.\n",
            "\n",
            "11:13:54.4: AutoML: starting XGBoost_2_AutoML_20201106_111351 model training\n",
            "\n",
            "██\n",
            "11:13:55.27: XGBoost_2_AutoML_20201106_111351 [XGBoost def_2] failed: water.exceptions.H2OModelBuilderIllegalArgumentException: Illegal argument(s) for XGBoost model: XGBoost_2_AutoML_20201106_111351.  Details: ERRR on field: _response_column: Response contains missing values (NAs) - not supported by XGBoost.\n",
            "\n",
            "11:13:55.28: AutoML: starting XGBoost_3_AutoML_20201106_111351 model training\n",
            "11:13:56.43: XGBoost_3_AutoML_20201106_111351 [XGBoost def_3] failed: water.exceptions.H2OModelBuilderIllegalArgumentException: Illegal argument(s) for XGBoost model: XGBoost_3_AutoML_20201106_111351.  Details: ERRR on field: _response_column: Response contains missing values (NAs) - not supported by XGBoost.\n",
            "\n",
            "11:13:56.44: AutoML: starting GLM_1_AutoML_20201106_111351 model training\n",
            "\n",
            "████████████████████████\n",
            "11:16:44.180: AutoML: starting DRF_1_AutoML_20201106_111351 model training\n",
            "\n",
            "██\n",
            "11:18:14.406: AutoML: starting GBM_1_AutoML_20201106_111351 model training\n",
            "\n",
            "██████████████████\n",
            "11:23:50.823: AutoML: starting GBM_2_AutoML_20201106_111351 model training\n",
            "\n",
            "██████\n",
            "11:28:14.100: AutoML: starting GBM_3_AutoML_20201106_111351 model training\n",
            "\n",
            "██\n",
            "11:31:55.335: AutoML: starting GBM_4_AutoML_20201106_111351 model training\n",
            "\n",
            "█"
          ],
          "name": "stdout"
        }
      ]
    },
    {
      "cell_type": "code",
      "metadata": {
        "id": "dM74PQqkJ1d7"
      },
      "source": [
        "aml.leaderboard "
      ],
      "execution_count": null,
      "outputs": []
    },
    {
      "cell_type": "code",
      "metadata": {
        "id": "UzSxnDHxJ1hG"
      },
      "source": [
        "pred=aml.leader.predict(h2o_test_df)"
      ],
      "execution_count": null,
      "outputs": []
    },
    {
      "cell_type": "code",
      "metadata": {
        "id": "XNxqw6HDPsCe"
      },
      "source": [
        "model_ids=list(aml.leaderboard['model_id'].as_data_frame().iloc[:,0])\n",
        "out=h2o.get_model([mid for mid in models if 'XGBOOST' in mid][0])"
      ],
      "execution_count": null,
      "outputs": []
    },
    {
      "cell_type": "code",
      "metadata": {
        "id": "XosRabm-PsKB"
      },
      "source": [
        "out"
      ],
      "execution_count": null,
      "outputs": []
    },
    {
      "cell_type": "code",
      "metadata": {
        "id": "GbWlpZ6MPsN2"
      },
      "source": [
        "out.convert_H2OXGBoostParams_2_XGBoostParams()"
      ],
      "execution_count": null,
      "outputs": []
    },
    {
      "cell_type": "code",
      "metadata": {
        "id": "TTkbD_zWQtXv"
      },
      "source": [
        "import xgboost as xgb\n",
        "from sklearn.metrics import classification_report,confusion_matrix\n"
      ],
      "execution_count": null,
      "outputs": []
    },
    {
      "cell_type": "code",
      "metadata": {
        "id": "cZu8c75uQthx"
      },
      "source": [
        "xgb_clf=xgb.XGBClassifer(n_estimators=100,learning_rate=0.05,max_depth=6,objective='multi:softprob',random_state=10,**{'updater': 'grow_gpu' })"
      ],
      "execution_count": null,
      "outputs": []
    },
    {
      "cell_type": "code",
      "metadata": {
        "id": "Cb7Va5-pQtkl"
      },
      "source": [
        "xgb_clf.fit(train_vectors,X_train['target'])"
      ],
      "execution_count": null,
      "outputs": []
    },
    {
      "cell_type": "code",
      "metadata": {
        "id": "OhlnKNf_QtqL"
      },
      "source": [
        "predictions=xgb_clf.predict(test_vectors)"
      ],
      "execution_count": null,
      "outputs": []
    },
    {
      "cell_type": "code",
      "metadata": {
        "id": "L5-xrQa3QtoY"
      },
      "source": [
        "cm=confusion_matrix(X_test['target'],predictions)\n",
        "print(cm)"
      ],
      "execution_count": null,
      "outputs": []
    },
    {
      "cell_type": "code",
      "metadata": {
        "id": "NwTg7vbnSBSM"
      },
      "source": [
        "print('classification report:\\n',classification_report(X_test['target'],predictions))"
      ],
      "execution_count": null,
      "outputs": []
    },
    {
      "cell_type": "code",
      "metadata": {
        "id": "c7jJGdDIS-G3"
      },
      "source": [
        "#Handling unbalanved classes in the target but applying new methos:class weight\n",
        "#what it odes it adds majoirty weight to minority classes and vice versa\n",
        "from sklearn.utils import class_weight\n",
        "class_weights=list(class_weight.compute_class_weight('balanced',\n",
        "                                                    np.unique(X_train['target']),\n",
        "                                                    X_train['target']))"
      ],
      "execution_count": null,
      "outputs": []
    },
    {
      "cell_type": "code",
      "metadata": {
        "id": "eGDJ72dvT3oi"
      },
      "source": [
        "class_weights"
      ],
      "execution_count": null,
      "outputs": []
    },
    {
      "cell_type": "code",
      "metadata": {
        "id": "yvZ3YjuUS-Kn"
      },
      "source": [
        "weights=np.ones(X_train.shape[0],dtype='float')\n",
        "weights"
      ],
      "execution_count": null,
      "outputs": []
    },
    {
      "cell_type": "code",
      "metadata": {
        "id": "UIB55gC-S-OI"
      },
      "source": [
        "for i,val in enumerate(X_train['target']):\n",
        "  weights[i]=class_weights[val]"
      ],
      "execution_count": null,
      "outputs": []
    },
    {
      "cell_type": "code",
      "metadata": {
        "id": "bW5JIMUHUWRl"
      },
      "source": [
        "weights"
      ],
      "execution_count": null,
      "outputs": []
    },
    {
      "cell_type": "code",
      "metadata": {
        "id": "CYppwH28UWZb"
      },
      "source": [
        "xgb_clf=xgb.XGBClassifer(n_estimators=100,learning_rate=0.05,max_depth=6,objective='multi:softprob',random_state=10,**{'updater': 'grow_gpu' })"
      ],
      "execution_count": null,
      "outputs": []
    },
    {
      "cell_type": "code",
      "metadata": {
        "id": "22d25P5aUWhG"
      },
      "source": [
        "#Here is where we add the class weight to the scenario\n",
        "xgb_clf.fit(train_vectors,X_train['target'],sample_weight=weights)"
      ],
      "execution_count": null,
      "outputs": []
    },
    {
      "cell_type": "code",
      "metadata": {
        "id": "zY30gbe0UWk4"
      },
      "source": [
        "predictions=xgb_clf.predict(test_vectors)"
      ],
      "execution_count": null,
      "outputs": []
    },
    {
      "cell_type": "code",
      "metadata": {
        "id": "CswGhwZ8UWfP"
      },
      "source": [
        "cm=confusion_matrix(X_test['target'],predictions)\n",
        "print(cm)"
      ],
      "execution_count": null,
      "outputs": []
    },
    {
      "cell_type": "code",
      "metadata": {
        "id": "Mz8sZw55UWd8"
      },
      "source": [
        "print('classification report:\\n',classification_report(X_test['target'],predictions))"
      ],
      "execution_count": null,
      "outputs": []
    },
    {
      "cell_type": "code",
      "metadata": {
        "id": "YcU6kJTHUWXD"
      },
      "source": [
        ""
      ],
      "execution_count": null,
      "outputs": []
    },
    {
      "cell_type": "code",
      "metadata": {
        "id": "vCOAHQUpUWVb"
      },
      "source": [
        ""
      ],
      "execution_count": null,
      "outputs": []
    }
  ]
}